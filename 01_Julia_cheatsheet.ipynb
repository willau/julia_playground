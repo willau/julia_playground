{
 "cells": [
  {
   "cell_type": "markdown",
   "metadata": {},
   "source": [
    "# Julia Cheatsheet"
   ]
  },
  {
   "cell_type": "markdown",
   "metadata": {},
   "source": [
    "##### Inspired by [Learn X in Y minutes where X=Julia](https://learnxinyminutes.com/docs/julia/)"
   ]
  },
  {
   "cell_type": "markdown",
   "metadata": {},
   "source": [
    "#### Comments"
   ]
  },
  {
   "cell_type": "code",
   "execution_count": 15,
   "metadata": {
    "collapsed": true
   },
   "outputs": [],
   "source": [
    "# This is a comment line\n",
    "\n",
    "#= Multiline comments\n",
    "    Use hashtag + equal symbols to start. \n",
    "    Use equal + hashtag to end.\n",
    "    Multiline comments can also be nested.\n",
    "=#"
   ]
  },
  {
   "cell_type": "markdown",
   "metadata": {},
   "source": [
    "#### Printing"
   ]
  },
  {
   "cell_type": "code",
   "execution_count": 58,
   "metadata": {},
   "outputs": [
    {
     "name": "stdout",
     "output_type": "stream",
     "text": [
      "Hello World Julia!\n",
      "This is a big integer: 4294967296\n",
      "8 is an integer whereas 2.300000 is a float"
     ]
    }
   ],
   "source": [
    "# print with new line\n",
    "println(\"Hello World Julia!\")\n",
    "# format strings without new line\n",
    "print(\"This is a big integer: $(2^32)\") \n",
    "# using print macro and format strings\n",
    "@printf \"\\n\"  \n",
    "@printf \"%d is an integer whereas %f is a float\" 8 2.3"
   ]
  },
  {
   "cell_type": "markdown",
   "metadata": {},
   "source": [
    "#### Looping"
   ]
  },
  {
   "cell_type": "code",
   "execution_count": 17,
   "metadata": {},
   "outputs": [
    {
     "name": "stdout",
     "output_type": "stream",
     "text": [
      "1 2 3 4 5 6 7 8 9 10 11 12 13 14 15 16 17 18 19 20 "
     ]
    }
   ],
   "source": [
    "for i in 1:20\n",
    "    print(i)\n",
    "    print(\" \")\n",
    "end"
   ]
  },
  {
   "cell_type": "code",
   "execution_count": 18,
   "metadata": {},
   "outputs": [
    {
     "name": "stdout",
     "output_type": "stream",
     "text": [
      "1\n",
      "2\n",
      "3\n",
      "4\n",
      "5\n"
     ]
    }
   ],
   "source": [
    "for i in 1:5\n",
    "    println(i)\n",
    "end"
   ]
  },
  {
   "cell_type": "markdown",
   "metadata": {},
   "source": [
    "#### Variables"
   ]
  },
  {
   "cell_type": "code",
   "execution_count": 23,
   "metadata": {},
   "outputs": [
    {
     "data": {
      "text/plain": [
       "false"
      ]
     },
     "execution_count": 23,
     "metadata": {},
     "output_type": "execute_result"
    }
   ],
   "source": [
    "# Int64\n",
    "x_int = 2\n",
    "# Float64\n",
    "x_float = 1.7\n",
    "# Complex{Int64}\n",
    "x_complex = 1 + 2*im\n",
    "# Rational{Int64}\n",
    "x_rational = 3//10\n",
    "# Boolean\n",
    "x_bool_true = true \n",
    "x_bool_false = false"
   ]
  },
  {
   "cell_type": "markdown",
   "metadata": {},
   "source": [
    "#### Operators"
   ]
  },
  {
   "cell_type": "code",
   "execution_count": 20,
   "metadata": {},
   "outputs": [
    {
     "data": {
      "text/plain": [
       "0"
      ]
     },
     "execution_count": 20,
     "metadata": {},
     "output_type": "execute_result"
    }
   ],
   "source": [
    "# All standard operations\n",
    "summing = 1 + 1\n",
    "difference = 1 - 1 \n",
    "multiplication = 1 * 1\n",
    "division = 1 / 1 \n",
    "power = 1 ^ 1\n",
    "modulo = 1 % 1"
   ]
  },
  {
   "cell_type": "markdown",
   "metadata": {},
   "source": [
    "#### List"
   ]
  },
  {
   "cell_type": "code",
   "execution_count": 34,
   "metadata": {},
   "outputs": [
    {
     "name": "stdout",
     "output_type": "stream",
     "text": [
      "[1 2 3 4; 5 6 7 1]\n",
      "Complex{Int64}[0+1im 2+0im 3+0im 4+0im; 5+0im 6+0im 7+0im 1+0im]\n"
     ]
    }
   ],
   "source": [
    "# Arrays are indexed from 1 to n\n",
    "a = Int64[]\n",
    "b = Float64[]\n",
    "c = Complex{Int64}[]\n",
    "\n",
    "# Use comma or semicolon for 1-d arrays\n",
    "d = [1, 2, 3]\n",
    "d = [1; 2; 3]\n",
    "\n",
    "# Use comma and semicolon for n-d arrays\n",
    "e = [1 2 3 4; 5 6 7 1]\n",
    "println(e)\n",
    "\n",
    "# Let's see what happens if we put a complex\n",
    "f = [im 2 3 4; 5 6 7 1]\n",
    "println(f)"
   ]
  },
  {
   "cell_type": "markdown",
   "metadata": {},
   "source": [
    "#### Boolean"
   ]
  },
  {
   "cell_type": "code",
   "execution_count": 25,
   "metadata": {},
   "outputs": [
    {
     "data": {
      "text/plain": [
       "false"
      ]
     },
     "execution_count": 25,
     "metadata": {},
     "output_type": "execute_result"
    }
   ],
   "source": [
    "# Boolean operators\n",
    "!true # => false\n",
    "!false # => true\n",
    "1 == 1 # => true\n",
    "2 == 1 # => false\n",
    "1 != 1 # => false\n",
    "2 != 1 # => true\n",
    "1 < 10 # => true\n",
    "1 > 10 # => false\n",
    "2 <= 2 # => true\n",
    "2 >= 2 # => true\n",
    "\n",
    "# Comparisons can be chained\n",
    "1 < 2 < 3 # => true\n",
    "2 < 3 < 2 # => false"
   ]
  }
 ],
 "metadata": {
  "anaconda-cloud": {},
  "kernelspec": {
   "display_name": "Julia 0.6.0",
   "language": "julia",
   "name": "julia-0.6"
  },
  "language_info": {
   "file_extension": ".jl",
   "mimetype": "application/julia",
   "name": "julia",
   "version": "0.6.0"
  }
 },
 "nbformat": 4,
 "nbformat_minor": 1
}
